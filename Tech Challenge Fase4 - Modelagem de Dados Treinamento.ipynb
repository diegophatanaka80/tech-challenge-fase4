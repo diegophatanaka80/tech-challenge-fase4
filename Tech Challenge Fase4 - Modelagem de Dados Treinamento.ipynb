{
 "cells": [
  {
   "cell_type": "markdown",
   "id": "ba18a914",
   "metadata": {},
   "source": [
    "# Treinamento do Modelo"
   ]
  },
  {
   "cell_type": "code",
   "execution_count": 16,
   "id": "46b15c62",
   "metadata": {},
   "outputs": [],
   "source": [
    "import pandas as pd\n",
    "from sklearn.model_selection import train_test_split\n",
    "from sklearn.preprocessing import LabelEncoder\n",
    "from sklearn.ensemble import RandomForestClassifier\n",
    "from sklearn.neighbors import KNeighborsClassifier\n",
    "from sklearn.linear_model import LogisticRegression\n",
    "from xgboost import XGBClassifier\n",
    "from sklearn.metrics import classification_report, accuracy_score\n",
    "import joblib"
   ]
  },
  {
   "cell_type": "code",
   "execution_count": 8,
   "id": "291caacb",
   "metadata": {},
   "outputs": [],
   "source": [
    "# 1. Carregar os dados\n",
    "df = pd.read_csv('dados_modelo.csv')"
   ]
  },
  {
   "cell_type": "code",
   "execution_count": 9,
   "id": "99a5e38b",
   "metadata": {},
   "outputs": [],
   "source": [
    "# 2. Remover variáveis com alta correlação com o target\n",
    "df = df.drop(columns=[\"imc\", \"categoria_imc\"])"
   ]
  },
  {
   "cell_type": "code",
   "execution_count": 10,
   "id": "cf92c009",
   "metadata": {},
   "outputs": [],
   "source": [
    "# 3. Separar variáveis preditoras e alvo\n",
    "X = df.drop(columns=[\"nivel_obesidade\"])\n",
    "y = df[\"nivel_obesidade\"]"
   ]
  },
  {
   "cell_type": "code",
   "execution_count": 11,
   "id": "39fc8470",
   "metadata": {},
   "outputs": [],
   "source": [
    "# 4. Codificar variáveis categóricas (X)\n",
    "X = pd.get_dummies(X, drop_first=True)"
   ]
  },
  {
   "cell_type": "code",
   "execution_count": 12,
   "id": "e92d354b",
   "metadata": {},
   "outputs": [],
   "source": [
    "# 5. Codificar variável alvo\n",
    "label_encoder = LabelEncoder()\n",
    "y_encoded = label_encoder.fit_transform(y)"
   ]
  },
  {
   "cell_type": "code",
   "execution_count": 13,
   "id": "e640dc82",
   "metadata": {},
   "outputs": [],
   "source": [
    "# 6. Divisão treino/teste\n",
    "X_train, X_test, y_train, y_test = train_test_split(\n",
    "    X, y_encoded, test_size=0.2, random_state=42, stratify=y_encoded\n",
    ")"
   ]
  },
  {
   "cell_type": "code",
   "execution_count": 14,
   "id": "d203e9a3",
   "metadata": {},
   "outputs": [],
   "source": [
    "# 7. Instanciar modelos\n",
    "modelos = {\n",
    "    \"Random Forest\": RandomForestClassifier(random_state=42),\n",
    "    \"KNN\": KNeighborsClassifier(),\n",
    "    \"Logistic Regression\": LogisticRegression(max_iter=1000),\n",
    "    \"XGBoost\": XGBClassifier(use_label_encoder=False, eval_metric='mlogloss', random_state=42)\n",
    "}"
   ]
  },
  {
   "cell_type": "code",
   "execution_count": 17,
   "id": "af0651d4",
   "metadata": {},
   "outputs": [
    {
     "name": "stdout",
     "output_type": "stream",
     "text": [
      "\n",
      "Treinando Random Forest...\n",
      "Acurácia: 0.9433\n",
      "                     precision    recall  f1-score   support\n",
      "\n",
      "Insufficient_Weight       1.00      0.94      0.97        54\n",
      "      Normal_Weight       0.81      0.93      0.86        58\n",
      "     Obesity_Type_I       0.96      0.96      0.96        70\n",
      "    Obesity_Type_II       0.98      0.98      0.98        60\n",
      "   Obesity_Type_III       1.00      0.98      0.99        65\n",
      " Overweight_Level_I       0.89      0.86      0.88        58\n",
      "Overweight_Level_II       0.98      0.93      0.96        58\n",
      "\n",
      "           accuracy                           0.94       423\n",
      "          macro avg       0.95      0.94      0.94       423\n",
      "       weighted avg       0.95      0.94      0.94       423\n",
      "\n",
      "\n",
      "Treinando KNN...\n",
      "Acurácia: 0.8794\n",
      "                     precision    recall  f1-score   support\n",
      "\n",
      "Insufficient_Weight       0.88      0.96      0.92        54\n",
      "      Normal_Weight       0.88      0.60      0.71        58\n",
      "     Obesity_Type_I       0.93      0.90      0.91        70\n",
      "    Obesity_Type_II       0.92      0.97      0.94        60\n",
      "   Obesity_Type_III       0.98      0.97      0.98        65\n",
      " Overweight_Level_I       0.79      0.91      0.85        58\n",
      "Overweight_Level_II       0.77      0.83      0.80        58\n",
      "\n",
      "           accuracy                           0.88       423\n",
      "          macro avg       0.88      0.88      0.87       423\n",
      "       weighted avg       0.88      0.88      0.88       423\n",
      "\n",
      "\n",
      "Treinando Logistic Regression...\n"
     ]
    },
    {
     "name": "stderr",
     "output_type": "stream",
     "text": [
      "C:\\Users\\dphat\\AppData\\Local\\Packages\\PythonSoftwareFoundation.Python.3.11_qbz5n2kfra8p0\\LocalCache\\local-packages\\Python311\\site-packages\\joblib\\externals\\loky\\backend\\context.py:136: UserWarning: Could not find the number of physical cores for the following reason:\n",
      "[WinError 2] O sistema não pode encontrar o arquivo especificado\n",
      "Returning the number of logical cores instead. You can silence this warning by setting LOKY_MAX_CPU_COUNT to the number of cores you want to use.\n",
      "  warnings.warn(\n",
      "  File \"C:\\Users\\dphat\\AppData\\Local\\Packages\\PythonSoftwareFoundation.Python.3.11_qbz5n2kfra8p0\\LocalCache\\local-packages\\Python311\\site-packages\\joblib\\externals\\loky\\backend\\context.py\", line 257, in _count_physical_cores\n",
      "    cpu_info = subprocess.run(\n",
      "               ^^^^^^^^^^^^^^^\n",
      "  File \"C:\\Program Files\\WindowsApps\\PythonSoftwareFoundation.Python.3.11_3.11.2544.0_x64__qbz5n2kfra8p0\\Lib\\subprocess.py\", line 548, in run\n",
      "    with Popen(*popenargs, **kwargs) as process:\n",
      "         ^^^^^^^^^^^^^^^^^^^^^^^^^^^\n",
      "  File \"C:\\Program Files\\WindowsApps\\PythonSoftwareFoundation.Python.3.11_3.11.2544.0_x64__qbz5n2kfra8p0\\Lib\\subprocess.py\", line 1026, in __init__\n",
      "    self._execute_child(args, executable, preexec_fn, close_fds,\n",
      "  File \"C:\\Program Files\\WindowsApps\\PythonSoftwareFoundation.Python.3.11_3.11.2544.0_x64__qbz5n2kfra8p0\\Lib\\subprocess.py\", line 1538, in _execute_child\n",
      "    hp, ht, pid, tid = _winapi.CreateProcess(executable, args,\n",
      "                       ^^^^^^^^^^^^^^^^^^^^^^^^^^^^^^^^^^^^^^^\n",
      "C:\\Users\\dphat\\AppData\\Local\\Packages\\PythonSoftwareFoundation.Python.3.11_qbz5n2kfra8p0\\LocalCache\\local-packages\\Python311\\site-packages\\sklearn\\linear_model\\_logistic.py:465: ConvergenceWarning: lbfgs failed to converge (status=1):\n",
      "STOP: TOTAL NO. OF ITERATIONS REACHED LIMIT.\n",
      "\n",
      "Increase the number of iterations (max_iter) or scale the data as shown in:\n",
      "    https://scikit-learn.org/stable/modules/preprocessing.html\n",
      "Please also refer to the documentation for alternative solver options:\n",
      "    https://scikit-learn.org/stable/modules/linear_model.html#logistic-regression\n",
      "  n_iter_i = _check_optimize_result(\n",
      "C:\\Users\\dphat\\AppData\\Local\\Packages\\PythonSoftwareFoundation.Python.3.11_qbz5n2kfra8p0\\LocalCache\\local-packages\\Python311\\site-packages\\xgboost\\training.py:183: UserWarning: [22:20:54] WARNING: C:\\actions-runner\\_work\\xgboost\\xgboost\\src\\learner.cc:738: \n",
      "Parameters: { \"use_label_encoder\" } are not used.\n",
      "\n",
      "  bst.update(dtrain, iteration=i, fobj=obj)\n"
     ]
    },
    {
     "name": "stdout",
     "output_type": "stream",
     "text": [
      "Acurácia: 0.8085\n",
      "                     precision    recall  f1-score   support\n",
      "\n",
      "Insufficient_Weight       0.85      0.87      0.86        54\n",
      "      Normal_Weight       0.72      0.66      0.68        58\n",
      "     Obesity_Type_I       0.79      0.79      0.79        70\n",
      "    Obesity_Type_II       0.88      0.98      0.93        60\n",
      "   Obesity_Type_III       0.98      0.98      0.98        65\n",
      " Overweight_Level_I       0.67      0.71      0.69        58\n",
      "Overweight_Level_II       0.73      0.66      0.69        58\n",
      "\n",
      "           accuracy                           0.81       423\n",
      "          macro avg       0.80      0.81      0.80       423\n",
      "       weighted avg       0.81      0.81      0.81       423\n",
      "\n",
      "\n",
      "Treinando XGBoost...\n",
      "Acurácia: 0.9527\n",
      "                     precision    recall  f1-score   support\n",
      "\n",
      "Insufficient_Weight       0.96      0.91      0.93        54\n",
      "      Normal_Weight       0.83      0.95      0.89        58\n",
      "     Obesity_Type_I       0.97      0.97      0.97        70\n",
      "    Obesity_Type_II       0.98      0.98      0.98        60\n",
      "   Obesity_Type_III       1.00      0.98      0.99        65\n",
      " Overweight_Level_I       0.96      0.90      0.93        58\n",
      "Overweight_Level_II       0.97      0.97      0.97        58\n",
      "\n",
      "           accuracy                           0.95       423\n",
      "          macro avg       0.95      0.95      0.95       423\n",
      "       weighted avg       0.96      0.95      0.95       423\n",
      "\n"
     ]
    }
   ],
   "source": [
    "# 8. Treinar, avaliar e salvar resultados\n",
    "resultados = {}\n",
    "\n",
    "for nome, modelo in modelos.items():\n",
    "    print(f\"\\nTreinando {nome}...\")\n",
    "    modelo.fit(X_train, y_train)\n",
    "    y_pred = modelo.predict(X_test)\n",
    "    acc = accuracy_score(y_test, y_pred)\n",
    "    print(f\"Acurácia: {acc:.4f}\")\n",
    "    print(classification_report(y_test, y_pred, target_names=label_encoder.classes_))\n",
    "    resultados[nome] = {\n",
    "        \"modelo\": modelo,\n",
    "        \"acuracia\": acc\n",
    "    }"
   ]
  },
  {
   "cell_type": "code",
   "execution_count": 18,
   "id": "0b73c9dd",
   "metadata": {},
   "outputs": [
    {
     "name": "stdout",
     "output_type": "stream",
     "text": [
      "\n",
      "🔍 Melhor modelo: XGBoost com acurácia 0.9527\n"
     ]
    },
    {
     "data": {
      "text/plain": [
       "['colunas_modelo.pkl']"
      ]
     },
     "execution_count": 18,
     "metadata": {},
     "output_type": "execute_result"
    }
   ],
   "source": [
    "\n",
    "# 9. Selecionar o melhor modelo\n",
    "melhor_modelo_nome = max(resultados, key=lambda x: resultados[x][\"acuracia\"])\n",
    "melhor_modelo = resultados[melhor_modelo_nome][\"modelo\"]\n",
    "\n",
    "print(f\"\\n🔍 Melhor modelo: {melhor_modelo_nome} com acurácia {resultados[melhor_modelo_nome]['acuracia']:.4f}\")\n",
    "\n",
    "# 10. Salvar melhor modelo, encoder e colunas\n",
    "joblib.dump(melhor_modelo, \"modelo_obesidade.pkl\")\n",
    "joblib.dump(label_encoder, \"label_encoder.pkl\")\n",
    "joblib.dump(X.columns.tolist(), \"colunas_modelo.pkl\")"
   ]
  }
 ],
 "metadata": {
  "kernelspec": {
   "display_name": "Python 3",
   "language": "python",
   "name": "python3"
  },
  "language_info": {
   "codemirror_mode": {
    "name": "ipython",
    "version": 3
   },
   "file_extension": ".py",
   "mimetype": "text/x-python",
   "name": "python",
   "nbconvert_exporter": "python",
   "pygments_lexer": "ipython3",
   "version": "3.11.9"
  }
 },
 "nbformat": 4,
 "nbformat_minor": 5
}
