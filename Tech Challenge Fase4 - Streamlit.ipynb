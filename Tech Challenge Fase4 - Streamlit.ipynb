{
 "cells": [
  {
   "cell_type": "markdown",
   "id": "7a51d8a2",
   "metadata": {},
   "source": [
    "# Streamlit"
   ]
  },
  {
   "cell_type": "code",
   "execution_count": 1,
   "id": "b329cf6e",
   "metadata": {},
   "outputs": [],
   "source": [
    "# app_obesidade.py\n",
    "import streamlit as st\n",
    "import pandas as pd\n",
    "import joblib"
   ]
  },
  {
   "cell_type": "code",
   "execution_count": 2,
   "id": "24140d5d",
   "metadata": {},
   "outputs": [
    {
     "name": "stderr",
     "output_type": "stream",
     "text": [
      "2025-07-28 21:56:37.033 WARNING streamlit.runtime.scriptrunner_utils.script_run_context: Thread 'MainThread': missing ScriptRunContext! This warning can be ignored when running in bare mode.\n"
     ]
    }
   ],
   "source": [
    "# === 1. Carregar modelo e codificador\n",
    "modelo = joblib.load('modelo_obesidade.pkl')\n",
    "label_encoder = joblib.load('label_encoder.pkl')\n",
    "\n",
    "st.set_page_config(page_title=\"Preditor de Obesidade\", layout=\"centered\")"
   ]
  },
  {
   "cell_type": "code",
   "execution_count": 3,
   "id": "34c28ad2",
   "metadata": {},
   "outputs": [
    {
     "name": "stderr",
     "output_type": "stream",
     "text": [
      "2025-07-28 21:56:37.045 WARNING streamlit.runtime.scriptrunner_utils.script_run_context: Thread 'MainThread': missing ScriptRunContext! This warning can be ignored when running in bare mode.\n",
      "2025-07-28 21:56:37.477 \n",
      "  \u001b[33m\u001b[1mWarning:\u001b[0m to view this Streamlit app on a browser, run it with the following\n",
      "  command:\n",
      "\n",
      "    streamlit run C:\\Users\\dphat\\AppData\\Local\\Packages\\PythonSoftwareFoundation.Python.3.11_qbz5n2kfra8p0\\LocalCache\\local-packages\\Python311\\site-packages\\ipykernel_launcher.py [ARGUMENTS]\n",
      "2025-07-28 21:56:37.477 Thread 'MainThread': missing ScriptRunContext! This warning can be ignored when running in bare mode.\n",
      "2025-07-28 21:56:37.477 Thread 'MainThread': missing ScriptRunContext! This warning can be ignored when running in bare mode.\n",
      "2025-07-28 21:56:37.477 Thread 'MainThread': missing ScriptRunContext! This warning can be ignored when running in bare mode.\n",
      "2025-07-28 21:56:37.477 Thread 'MainThread': missing ScriptRunContext! This warning can be ignored when running in bare mode.\n",
      "2025-07-28 21:56:37.485 Thread 'MainThread': missing ScriptRunContext! This warning can be ignored when running in bare mode.\n"
     ]
    },
    {
     "data": {
      "text/plain": [
       "DeltaGenerator()"
      ]
     },
     "execution_count": 3,
     "metadata": {},
     "output_type": "execute_result"
    }
   ],
   "source": [
    "# === 2. Título e introdução\n",
    "st.title(\"Sistema Preditivo de Obesidade\")\n",
    "st.markdown(\"\"\"\n",
    "Esse sistema usa um modelo de Machine Learning para prever o **nível de obesidade** de uma pessoa com base em seus hábitos e características clínicas.\n",
    "\"\"\")"
   ]
  },
  {
   "cell_type": "code",
   "execution_count": 4,
   "id": "6555a1fe",
   "metadata": {},
   "outputs": [
    {
     "name": "stderr",
     "output_type": "stream",
     "text": [
      "2025-07-28 21:56:37.501 Thread 'MainThread': missing ScriptRunContext! This warning can be ignored when running in bare mode.\n",
      "2025-07-28 21:56:37.501 Thread 'MainThread': missing ScriptRunContext! This warning can be ignored when running in bare mode.\n",
      "2025-07-28 21:56:37.503 Thread 'MainThread': missing ScriptRunContext! This warning can be ignored when running in bare mode.\n",
      "2025-07-28 21:56:37.504 Thread 'MainThread': missing ScriptRunContext! This warning can be ignored when running in bare mode.\n",
      "2025-07-28 21:56:37.504 Thread 'MainThread': missing ScriptRunContext! This warning can be ignored when running in bare mode.\n",
      "2025-07-28 21:56:37.506 Thread 'MainThread': missing ScriptRunContext! This warning can be ignored when running in bare mode.\n",
      "2025-07-28 21:56:37.506 Thread 'MainThread': missing ScriptRunContext! This warning can be ignored when running in bare mode.\n",
      "2025-07-28 21:56:37.507 Thread 'MainThread': missing ScriptRunContext! This warning can be ignored when running in bare mode.\n",
      "2025-07-28 21:56:37.508 Thread 'MainThread': missing ScriptRunContext! This warning can be ignored when running in bare mode.\n",
      "2025-07-28 21:56:37.508 Session state does not function when running a script without `streamlit run`\n",
      "2025-07-28 21:56:37.510 Thread 'MainThread': missing ScriptRunContext! This warning can be ignored when running in bare mode.\n",
      "2025-07-28 21:56:37.511 Thread 'MainThread': missing ScriptRunContext! This warning can be ignored when running in bare mode.\n",
      "2025-07-28 21:56:37.511 Thread 'MainThread': missing ScriptRunContext! This warning can be ignored when running in bare mode.\n",
      "2025-07-28 21:56:37.511 Thread 'MainThread': missing ScriptRunContext! This warning can be ignored when running in bare mode.\n",
      "2025-07-28 21:56:37.514 Thread 'MainThread': missing ScriptRunContext! This warning can be ignored when running in bare mode.\n",
      "2025-07-28 21:56:37.514 Thread 'MainThread': missing ScriptRunContext! This warning can be ignored when running in bare mode.\n",
      "2025-07-28 21:56:37.514 Thread 'MainThread': missing ScriptRunContext! This warning can be ignored when running in bare mode.\n",
      "2025-07-28 21:56:37.518 Thread 'MainThread': missing ScriptRunContext! This warning can be ignored when running in bare mode.\n",
      "2025-07-28 21:56:37.518 Thread 'MainThread': missing ScriptRunContext! This warning can be ignored when running in bare mode.\n",
      "2025-07-28 21:56:37.518 Thread 'MainThread': missing ScriptRunContext! This warning can be ignored when running in bare mode.\n",
      "2025-07-28 21:56:37.518 Thread 'MainThread': missing ScriptRunContext! This warning can be ignored when running in bare mode.\n",
      "2025-07-28 21:56:37.518 Thread 'MainThread': missing ScriptRunContext! This warning can be ignored when running in bare mode.\n",
      "2025-07-28 21:56:37.522 Thread 'MainThread': missing ScriptRunContext! This warning can be ignored when running in bare mode.\n",
      "2025-07-28 21:56:37.522 Thread 'MainThread': missing ScriptRunContext! This warning can be ignored when running in bare mode.\n",
      "2025-07-28 21:56:37.522 Thread 'MainThread': missing ScriptRunContext! This warning can be ignored when running in bare mode.\n",
      "2025-07-28 21:56:37.524 Thread 'MainThread': missing ScriptRunContext! This warning can be ignored when running in bare mode.\n",
      "2025-07-28 21:56:37.524 Thread 'MainThread': missing ScriptRunContext! This warning can be ignored when running in bare mode.\n",
      "2025-07-28 21:56:37.524 Thread 'MainThread': missing ScriptRunContext! This warning can be ignored when running in bare mode.\n",
      "2025-07-28 21:56:37.526 Thread 'MainThread': missing ScriptRunContext! This warning can be ignored when running in bare mode.\n",
      "2025-07-28 21:56:37.526 Thread 'MainThread': missing ScriptRunContext! This warning can be ignored when running in bare mode.\n",
      "2025-07-28 21:56:37.528 Thread 'MainThread': missing ScriptRunContext! This warning can be ignored when running in bare mode.\n",
      "2025-07-28 21:56:37.529 Thread 'MainThread': missing ScriptRunContext! This warning can be ignored when running in bare mode.\n",
      "2025-07-28 21:56:37.529 Thread 'MainThread': missing ScriptRunContext! This warning can be ignored when running in bare mode.\n",
      "2025-07-28 21:56:37.529 Thread 'MainThread': missing ScriptRunContext! This warning can be ignored when running in bare mode.\n",
      "2025-07-28 21:56:37.531 Thread 'MainThread': missing ScriptRunContext! This warning can be ignored when running in bare mode.\n",
      "2025-07-28 21:56:37.531 Thread 'MainThread': missing ScriptRunContext! This warning can be ignored when running in bare mode.\n",
      "2025-07-28 21:56:37.531 Thread 'MainThread': missing ScriptRunContext! This warning can be ignored when running in bare mode.\n",
      "2025-07-28 21:56:37.531 Thread 'MainThread': missing ScriptRunContext! This warning can be ignored when running in bare mode.\n",
      "2025-07-28 21:56:37.534 Thread 'MainThread': missing ScriptRunContext! This warning can be ignored when running in bare mode.\n",
      "2025-07-28 21:56:37.536 Thread 'MainThread': missing ScriptRunContext! This warning can be ignored when running in bare mode.\n",
      "2025-07-28 21:56:37.539 Thread 'MainThread': missing ScriptRunContext! This warning can be ignored when running in bare mode.\n",
      "2025-07-28 21:56:37.539 Thread 'MainThread': missing ScriptRunContext! This warning can be ignored when running in bare mode.\n",
      "2025-07-28 21:56:37.542 Thread 'MainThread': missing ScriptRunContext! This warning can be ignored when running in bare mode.\n",
      "2025-07-28 21:56:37.542 Thread 'MainThread': missing ScriptRunContext! This warning can be ignored when running in bare mode.\n",
      "2025-07-28 21:56:37.543 Thread 'MainThread': missing ScriptRunContext! This warning can be ignored when running in bare mode.\n",
      "2025-07-28 21:56:37.543 Thread 'MainThread': missing ScriptRunContext! This warning can be ignored when running in bare mode.\n",
      "2025-07-28 21:56:37.545 Thread 'MainThread': missing ScriptRunContext! This warning can be ignored when running in bare mode.\n",
      "2025-07-28 21:56:37.547 Thread 'MainThread': missing ScriptRunContext! This warning can be ignored when running in bare mode.\n",
      "2025-07-28 21:56:37.547 Thread 'MainThread': missing ScriptRunContext! This warning can be ignored when running in bare mode.\n",
      "2025-07-28 21:56:37.547 Thread 'MainThread': missing ScriptRunContext! This warning can be ignored when running in bare mode.\n",
      "2025-07-28 21:56:37.550 Thread 'MainThread': missing ScriptRunContext! This warning can be ignored when running in bare mode.\n",
      "2025-07-28 21:56:37.550 Thread 'MainThread': missing ScriptRunContext! This warning can be ignored when running in bare mode.\n",
      "2025-07-28 21:56:37.550 Thread 'MainThread': missing ScriptRunContext! This warning can be ignored when running in bare mode.\n",
      "2025-07-28 21:56:37.552 Thread 'MainThread': missing ScriptRunContext! This warning can be ignored when running in bare mode.\n",
      "2025-07-28 21:56:37.552 Thread 'MainThread': missing ScriptRunContext! This warning can be ignored when running in bare mode.\n",
      "2025-07-28 21:56:37.552 Thread 'MainThread': missing ScriptRunContext! This warning can be ignored when running in bare mode.\n",
      "2025-07-28 21:56:37.554 Thread 'MainThread': missing ScriptRunContext! This warning can be ignored when running in bare mode.\n",
      "2025-07-28 21:56:37.554 Thread 'MainThread': missing ScriptRunContext! This warning can be ignored when running in bare mode.\n",
      "2025-07-28 21:56:37.557 Thread 'MainThread': missing ScriptRunContext! This warning can be ignored when running in bare mode.\n",
      "2025-07-28 21:56:37.558 Thread 'MainThread': missing ScriptRunContext! This warning can be ignored when running in bare mode.\n",
      "2025-07-28 21:56:37.558 Thread 'MainThread': missing ScriptRunContext! This warning can be ignored when running in bare mode.\n",
      "2025-07-28 21:56:37.560 Thread 'MainThread': missing ScriptRunContext! This warning can be ignored when running in bare mode.\n",
      "2025-07-28 21:56:37.560 Thread 'MainThread': missing ScriptRunContext! This warning can be ignored when running in bare mode.\n",
      "2025-07-28 21:56:37.560 Thread 'MainThread': missing ScriptRunContext! This warning can be ignored when running in bare mode.\n",
      "2025-07-28 21:56:37.560 Thread 'MainThread': missing ScriptRunContext! This warning can be ignored when running in bare mode.\n",
      "2025-07-28 21:56:37.560 Thread 'MainThread': missing ScriptRunContext! This warning can be ignored when running in bare mode.\n",
      "2025-07-28 21:56:37.560 Thread 'MainThread': missing ScriptRunContext! This warning can be ignored when running in bare mode.\n"
     ]
    }
   ],
   "source": [
    "# === 3. Formulário para entrada de dados\n",
    "with st.form(\"formulario_obesidade\"):\n",
    "    st.subheader(\"Preencha os dados do paciente\")\n",
    "\n",
    "    categoria_imc = st.selectbox(\"Categoria IMC\", [\n",
    "        'Normal_Weight', 'Overweight_Level_I', 'Overweight_Level_II',\n",
    "        'Obesity_Type_I', 'Obesity_Type_II', 'Obesity_Type_III', 'Insufficient_Weight'\n",
    "    ])\n",
    "\n",
    "    imc = st.number_input(\"IMC\", min_value=10.0, max_value=60.0, step=0.1, format=\"%.1f\")\n",
    "    peso = st.number_input(\"Peso (kg)\", min_value=30.0, max_value=200.0, step=0.5, format=\"%.1f\")\n",
    "    alimentos_entre_refeicoes = st.selectbox(\"Faz lanches entre refeições?\", ['no', 'Sometimes', 'Frequently'])\n",
    "    hist_familiar = st.selectbox(\"Histórico familiar de obesidade?\", ['yes', 'no'])\n",
    "    idade = st.slider(\"Idade\", min_value=10, max_value=80, value=30)\n",
    "    freq_alcool = st.selectbox(\"Frequência de consumo de álcool\", ['no', 'Sometimes', 'Frequently'])\n",
    "    qtd_dia_agua = st.slider(\"Quantidade de água ingerida por dia (litros)\", min_value=0.0, max_value=5.0, step=0.1)\n",
    "\n",
    "    enviar = st.form_submit_button(\"🔍 Prever nível de obesidade\")\n",
    "\n",
    "    # === 4. Quando o usuário clicar no botão\n",
    "if enviar:\n",
    "    # Criar DataFrame com as entradas do usuário\n",
    "    entrada = pd.DataFrame([{\n",
    "        'categoria_imc': categoria_imc,\n",
    "        'imc': imc,\n",
    "        'peso': peso,\n",
    "        'alimentos_entre_refeicoes': alimentos_entre_refeicoes,\n",
    "        'hist_familiar': hist_familiar,\n",
    "        'idade': idade,\n",
    "        'freq_alcool': freq_alcool,\n",
    "        'qtd_dia_agua': qtd_dia_agua\n",
    "    }])\n",
    "\n",
    "    # Fazer predição\n",
    "    pred = modelo.predict(entrada)[0]\n",
    "    nivel_obesidade = label_encoder.inverse_transform([pred])[0]    \n",
    "\n",
    "     # Exibir resultado\n",
    "    st.subheader(\"Resultado da Previsão\")\n",
    "    st.success(f\"O modelo previu: **{nivel_obesidade}**\")   \n",
    "\n",
    "        # Classificação de risco (opcional)\n",
    "    if \"Obesity\" in nivel_obesidade:\n",
    "        st.warning(\"Risco elevado! Recomenda-se acompanhamento médico.\")\n",
    "    elif \"Overweight\" in nivel_obesidade:\n",
    "        st.info(\"ℹAcima do peso ideal. Avaliação nutricional pode ser indicada.\")\n",
    "    else:\n",
    "        st.success(\"Peso dentro dos níveis considerados normais.\")"
   ]
  }
 ],
 "metadata": {
  "kernelspec": {
   "display_name": "Python 3",
   "language": "python",
   "name": "python3"
  },
  "language_info": {
   "codemirror_mode": {
    "name": "ipython",
    "version": 3
   },
   "file_extension": ".py",
   "mimetype": "text/x-python",
   "name": "python",
   "nbconvert_exporter": "python",
   "pygments_lexer": "ipython3",
   "version": "3.11.9"
  }
 },
 "nbformat": 4,
 "nbformat_minor": 5
}
